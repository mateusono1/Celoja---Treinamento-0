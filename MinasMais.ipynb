{
 "cells": [
  {
   "cell_type": "markdown",
   "metadata": {},
   "source": [
    "Analisando a página da Drogaria Minas Mais, percebo que ela é uma página dinâmica (tem o botão de \"Carregar mais produtos\")\n",
    "Outro fator que também chamou atenção: ao desligar o Javascript da página, ela não exibiu nenhum produto (sequer conseguiu carregar), exibindo uma dependenciaforte do JS\n",
    "Assim, vou tentar uma abordagem para um HTML dinâmico \n",
    "\n"
   ]
  },
  {
   "cell_type": "markdown",
   "metadata": {},
   "source": [
    "No site há 6118 produtos, sendo que na primeira página há 15 produtos, na segunda há outros 15 produtos e assim por diante \n",
    "Temos um total de 408 páginas\n",
    "Entretanto na página 51 já não encontramos mais produtos (Acredito que o acesso esteja limitado pelo parâmetro Page, como previa o arquivo de treinamento interno do Notion) \n"
   ]
  },
  {
   "cell_type": "markdown",
   "metadata": {},
   "source": [
    "Vou tentar fazer o processo de filtrar por marcas\n",
    "A marca com mais produtos é a HYPERA com 371 produtos\n",
    "O layout do site apresenta 15 produtos por página. Como podemos acessar 50 páginas, temos acesso a 750 (50x15) produtos no máximo\n",
    "Assim filtrar por marca realmente será uma estratégia válida"
   ]
  },
  {
   "cell_type": "markdown",
   "metadata": {},
   "source": [
    "<label class=\"vtex-checkbox__label w-100 c-on-base pointer\" for=\"brand-hypera\">HYPERA</label>\n",
    "<label class=\"vtex-checkbox__label w-100 c-on-base pointer\" for=\"brand-ache-rx\">ACHE RX</label>\n",
    "\n",
    "Cliquei em inspect em cima das marcas e achei isso no código fonte.\n",
    "Dar um jeito de pegar todas as marcas com essa estrutura"
   ]
  },
  {
   "cell_type": "code",
   "execution_count": 451,
   "metadata": {},
   "outputs": [],
   "source": [
    "from bs4 import BeautifulSoup\n",
    "import requests\n",
    "import json\n",
    "import re\n",
    "import pandas as pd\n",
    "import math\n",
    "\n",
    "from selenium import webdriver \n",
    "from webdriver_manager.chrome import ChromeDriverManager\n",
    "from selenium.webdriver.chrome.service import Service\n",
    "from selenium.webdriver.support.ui import WebDriverWait"
   ]
  },
  {
   "cell_type": "code",
   "execution_count": 452,
   "metadata": {},
   "outputs": [],
   "source": [
    "def pegar_html(link):  \n",
    "    req=requests.get(link)\n",
    "    html=BeautifulSoup(req.text,\"html.parser\")\n",
    "    return html\n",
    "\n"
   ]
  },
  {
   "cell_type": "code",
   "execution_count": 453,
   "metadata": {},
   "outputs": [],
   "source": [
    "def achar_marcas(html):\n",
    "    \n",
    "    marcas=html.find_all(\"label\", attrs={\"class\":\"vtex-checkbox__label w-100 c-on-base pointer\"})\n",
    "    strmarcas=[]\n",
    "    POP=[]\n",
    "    REMOVER=[]\n",
    "\n",
    "    #transformar ps códigos <label ...  em strings\n",
    "    for elem in marcas:\n",
    "        strmarcas.append(str(elem))\n",
    "    \n",
    "\n",
    "    #achar os índices das labels(em string) que possuem for=\"category-2...\", que não representam marcas\n",
    "    for i in range(len(strmarcas)):\n",
    "        if \"category-2\" in strmarcas[i]:\n",
    "            POP.append(i)\n",
    "\n",
    "    #Achar a correlação entre as labels(em string) e as labels normais. Saber qual label normal deve ser removida\n",
    "    for indice in POP:\n",
    "        REMOVER.append(marcas[indice])\n",
    "\n",
    "    for indesejado in REMOVER:\n",
    "        marcas.remove(indesejado)\n",
    "\n",
    "    #pegando somente o nome das marcas (retirando toda a estrutura do label)\n",
    "    TEXTO=[]\n",
    "    for label in marcas:\n",
    "        TEXTO.append(label.string)\n",
    "\n",
    "    #analisando o sorted(TEXTO), percebi que diversos elementos da lista eram duplicados\n",
    "\n",
    "    #Tirando os nomes duplicados\n",
    "    TEXTO_S_DUPL=[]\n",
    "    for elem in TEXTO:\n",
    "        if elem not in TEXTO_S_DUPL:\n",
    "            TEXTO_S_DUPL.append(elem) \n",
    "\n",
    "\n",
    "    #formatando o nome da marca\n",
    "    MARCA_PARA_LINK=[]\n",
    "    for elem in TEXTO_S_DUPL:\n",
    "        elem=elem.replace(\" \",\"-\")\n",
    "        elem=elem.replace(\"/\",\"-\")\n",
    "        elem=elem.lower()\n",
    "        MARCA_PARA_LINK.append(elem)\n",
    "\n",
    "    #print(strmarcas)\n",
    "    #print(POP)\n",
    "    #print(REMOVER)\n",
    "    return MARCA_PARA_LINK\n",
    "\n",
    "\n"
   ]
  },
  {
   "cell_type": "code",
   "execution_count": 454,
   "metadata": {},
   "outputs": [],
   "source": [
    "def link (MARCA_LINK):\n",
    "    LINK=[]\n",
    "    for i in MARCA_LINK:\n",
    "        link=f\"https://www.drogariasminasmais.com.br/medicamentos/{i}?initialMap=c&initialQuery=medicamentos&map=category-1,brand\"\n",
    "        link+=\"&page=\"\n",
    "        LINK.append(link)\n",
    "    return(LINK)\n"
   ]
  },
  {
   "cell_type": "markdown",
   "metadata": {},
   "source": [
    "Analisando a página da Hypera, pelo ThunderClient, posso perceber que todo o dicionário de interesse está na variável __STATE__ \n",
    "Mas ele só devolveu informações da primeira página. \n",
    "\n",
    "Acredito que o jeito mais facil será fazer requests das páginas dos jsons (v1 ao inspecionar a página) e achar como os links evoluem. A ideia é fazer requests em cima desses links e extrair as informações"
   ]
  },
  {
   "cell_type": "code",
   "execution_count": 455,
   "metadata": {},
   "outputs": [],
   "source": [
    "def qtd_produtos(json,marca):\n",
    "    nome='$ROOT_QUERY.facets({\"behavior\":\"Static\",\"categoryTreeBehavior\":\"default\",\"hideUnavailableItems\":true,\"initialAttributes\":\"c\",\"query\":\"medicamentos/ache-rx\",\"selectedFacets\":[{\"key\":\"category-1\",\"value\":\"medicamentos\"},{\"key\":\"brand\",\"value\":\"ache-rx\"}]})@context({\"provider\":\"vtex.search-graphql\"})@runtimeMeta({\"hash\":\"d0cbc665c0364a2c77575f998051aa1a9f8a04a60174d78356b18b0406fe48b6\"}).facets.3.values({}).'\n",
    "    for key,values in json.items():\n",
    "        if key.startswith(nome):\n",
    "            \n",
    "\n",
    "            #alterar a formatação da marca\n",
    "            marca=marca.replace(\"-\",\" \")\n",
    "            marca=marca.upper()\n",
    "\n",
    "            for sub_key,sub_value in values.items():\n",
    "                if sub_key=='quantity':\n",
    "                    quantidade=sub_value\n",
    "                    #print(sub_value)\n",
    "                    #print(marca)\n",
    "                if sub_key=='name' and sub_value==marca:\n",
    "                    return quantidade\n"
   ]
  },
  {
   "cell_type": "code",
   "execution_count": 456,
   "metadata": {},
   "outputs": [],
   "source": [
    "def get_json(url):\n",
    "        requisicao = requests.get(url)\n",
    "        soup = BeautifulSoup(requisicao.text, 'html.parser')\n",
    "\n",
    "        string = soup.find_all('script')[-34].text #Converter para arquivo de texto (retira as tags)\n",
    "\n",
    "        json_file = string.split(\"__STATE__ = \", 1) #1 é o indice (lista é criada com o split)\n",
    "        \n",
    "        return json.loads(json_file[1])\n",
    "\n"
   ]
  },
  {
   "cell_type": "code",
   "execution_count": 457,
   "metadata": {},
   "outputs": [],
   "source": [
    "def get_ean(json):\n",
    "    EAN=[]\n",
    "    for key,value in json.items():\n",
    "        if key.startswith('Product:sp-'):\n",
    "            for sub_key,sub_value in value.items():\n",
    "                if sub_key == \"ean\":\n",
    "                    EAN.append(sub_value)\n",
    "\n",
    "    return(EAN)\n",
    "        \n",
    "\n",
    "\n",
    "\n"
   ]
  },
  {
   "cell_type": "code",
   "execution_count": 458,
   "metadata": {},
   "outputs": [],
   "source": [
    "def get_name(json):\n",
    "    NOMES=[]\n",
    "    for key,value in json.items():\n",
    "        if key.startswith('Product:sp-'):\n",
    "            for sub_key,sub_value in value.items():\n",
    "                if sub_key=='productName':\n",
    "                    sub_value=sub_value.split(\" -\")[0]\n",
    "                    NOMES.append(sub_value)\n",
    "    return NOMES\n"
   ]
  },
  {
   "cell_type": "code",
   "execution_count": 459,
   "metadata": {},
   "outputs": [],
   "source": [
    "def get_preço_c_desconto(json):\n",
    "    VENDA=[]\n",
    "    for key,value in json.items():\n",
    "        if '$Product:sp-' and '.priceRange.sellingPrice' in key:\n",
    "            for sub_key,sub_value in value.items():\n",
    "                if sub_key == 'highPrice':\n",
    "                    VENDA.append(sub_value)\n",
    "    return VENDA\n",
    "\n",
    "\n"
   ]
  },
  {
   "cell_type": "code",
   "execution_count": 460,
   "metadata": {},
   "outputs": [],
   "source": [
    "def get_preço_s_desconto(json):\n",
    "    CHEIO=[]\n",
    "    for key,value in json.items():\n",
    "        if '$Product:sp-' and '.priceRange.listPrice' in key:\n",
    "            for sub_key,sub_value in value.items():\n",
    "                if sub_key == 'highPrice':\n",
    "                    CHEIO.append(sub_value)\n",
    "    return CHEIO\n",
    "\n",
    "\n",
    "    "
   ]
  },
  {
   "cell_type": "code",
   "execution_count": 461,
   "metadata": {},
   "outputs": [],
   "source": [
    "def desconto(A,B):\n",
    "    DESCONTO=[]\n",
    "    for i in range(len(A)):\n",
    "        x= B[i] - A[i]\n",
    "        if x<0:\n",
    "            x=(-1)*x\n",
    "            x=round(x,2)\n",
    "            DESCONTO.append(x)\n",
    "        else:\n",
    "            x=round(x,2)\n",
    "            DESCONTO.append(x)\n",
    "    return DESCONTO\n",
    "\n",
    "     "
   ]
  },
  {
   "cell_type": "code",
   "execution_count": 462,
   "metadata": {},
   "outputs": [
    {
     "name": "stdout",
     "output_type": "stream",
     "text": [
      "https://www.drogariasminasmais.com.br/medicamentos/hypera?initialMap=c&initialQuery=medicamentos&map=category-1,brand&page=1\n",
      "https://www.drogariasminasmais.com.br/medicamentos/hypera?initialMap=c&initialQuery=medicamentos&map=category-1,brand&page=2\n",
      "https://www.drogariasminasmais.com.br/medicamentos/hypera?initialMap=c&initialQuery=medicamentos&map=category-1,brand&page=3\n",
      "https://www.drogariasminasmais.com.br/medicamentos/hypera?initialMap=c&initialQuery=medicamentos&map=category-1,brand&page=4\n"
     ]
    }
   ],
   "source": [
    "colunas=['EAN','Marca','Nome','Preço com desconto','Preço sem desconto','Desconto']\n",
    "df=pd.DataFrame(columns=colunas)\n",
    "\n",
    "\n",
    "url='https://www.drogariasminasmais.com.br/medicamentos'\n",
    "html=pegar_html(url)\n",
    "marcas=achar_marcas(html)\n",
    "LINKS=link(marcas)\n",
    "\"\"\" print(LINKS[0])\n",
    "json=get_json(LINKS[0])\n",
    "ean=get_ean(json)\n",
    "nomes_produtos=get_name(json)\n",
    "p_des=get_preço_c_desconto(json)\n",
    "p_s_des=get_preço_s_desconto(json)\n",
    "desconto=desconto(p_s_des,p_des)\n",
    "\n",
    "df['EAN']=ean\n",
    "df['Marca']=marcas[0]\n",
    "df['Nome']=nomes_produtos\n",
    "df['Preço com desconto']=p_des\n",
    "df['Preço sem desconto']=p_s_des\n",
    "df['Desconto']=desconto\n",
    "df \"\"\"\n"
   ]
  },
  {
   "cell_type": "code",
   "execution_count": null,
   "metadata": {},
   "outputs": [],
   "source": []
  },
  {
   "cell_type": "code",
   "execution_count": 463,
   "metadata": {},
   "outputs": [
    {
     "name": "stdout",
     "output_type": "stream",
     "text": [
      "1\n",
      "2\n",
      "3\n",
      "4\n"
     ]
    }
   ],
   "source": [
    "for i in range(1,5):\n",
    "    print (i)"
   ]
  },
  {
   "cell_type": "code",
   "execution_count": 464,
   "metadata": {},
   "outputs": [
    {
     "data": {
      "text/plain": [
       "15"
      ]
     },
     "execution_count": 464,
     "metadata": {},
     "output_type": "execute_result"
    }
   ],
   "source": [
    "x=14.3\n",
    "x = math.ceil(x)\n",
    "x"
   ]
  },
  {
   "cell_type": "code",
   "execution_count": null,
   "metadata": {},
   "outputs": [],
   "source": []
  },
  {
   "cell_type": "code",
   "execution_count": null,
   "metadata": {},
   "outputs": [],
   "source": []
  },
  {
   "cell_type": "code",
   "execution_count": 465,
   "metadata": {},
   "outputs": [
    {
     "data": {
      "text/plain": [
       "' def get_ean(url):\\n    file = get_json(url)\\n\\n    ean_values = []\\n\\n    for chave, detalhes_produto in file.items():\\n        if chave.startswith(\\'Product:sp-\\'):\\n            \\n            for sub_chave, valor in detalhes_produto.items():\\n\\n                if \\'ean\\' in sub_chave:\\n                    ean_values.append(valor)\\n                    break\\n\\n    df2 = pd.DataFrame({\"EAN\": ean_values})\\n\\n    coluna_ean = df2[\\'EAN\\']\\n\\n    informations = get_informations(url)\\n\\n    informations[\\'Ean\\'] = coluna_ean '"
      ]
     },
     "execution_count": 465,
     "metadata": {},
     "output_type": "execute_result"
    }
   ],
   "source": [
    "\"\"\" def get_informations(url):\n",
    "    file = get_json(url)\n",
    "\n",
    "    df = pd.DataFrame(columns=[\"Name\",\"Product ID\", \"Brand\"])\n",
    "\n",
    "\n",
    "    for chave, detalhes_produto in file.items():\n",
    "\n",
    "        if chave.startswith('Product:sp-') and chave.split('-')[1].isdigit() and int(chave.split('-')[1]) != 0:\n",
    "\n",
    "            name = detalhes_produto[\"productName\"]\n",
    "            product_id = detalhes_produto[\"productId\"]\n",
    "            brand = detalhes_produto[\"brand\"]\n",
    "            cache_id = detalhes_produto.get(\"cacheId\", \"\") \"\"\"\n",
    "\n",
    "\"\"\" def get_ean(url):\n",
    "    file = get_json(url)\n",
    "\n",
    "    ean_values = []\n",
    "\n",
    "    for chave, detalhes_produto in file.items():\n",
    "        if chave.startswith('Product:sp-'):\n",
    "            \n",
    "            for sub_chave, valor in detalhes_produto.items():\n",
    "\n",
    "                if 'ean' in sub_chave:\n",
    "                    ean_values.append(valor)\n",
    "                    break\n",
    "\n",
    "    df2 = pd.DataFrame({\"EAN\": ean_values})\n",
    "\n",
    "    coluna_ean = df2['EAN']\n",
    "\n",
    "    informations = get_informations(url)\n",
    "\n",
    "    informations['Ean'] = coluna_ean \"\"\""
   ]
  },
  {
   "cell_type": "code",
   "execution_count": null,
   "metadata": {},
   "outputs": [],
   "source": []
  }
 ],
 "metadata": {
  "kernelspec": {
   "display_name": "base",
   "language": "python",
   "name": "python3"
  },
  "language_info": {
   "codemirror_mode": {
    "name": "ipython",
    "version": 3
   },
   "file_extension": ".py",
   "mimetype": "text/x-python",
   "name": "python",
   "nbconvert_exporter": "python",
   "pygments_lexer": "ipython3",
   "version": "3.11.5"
  }
 },
 "nbformat": 4,
 "nbformat_minor": 2
}
